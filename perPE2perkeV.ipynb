{
 "cells": [
  {
   "cell_type": "code",
   "execution_count": 1,
   "metadata": {},
   "outputs": [],
   "source": [
    "import numpy as np\n",
    "import pandas as pd\n",
    "import matplotlib.pyplot as plt\n",
    "import uproot\n",
    "import math\n",
    "from scipy.interpolate import interp1d\n",
    "from IPython.core.pylabtools import figsize # import figsize\n",
    "from scipy.interpolate import interp1d\n",
    "#figsize(12.5, 4) # 设置 figsize\n",
    "plt.rcParams['savefig.dpi'] = 200 #图片像素\n",
    "plt.rcParams['figure.dpi'] = 400 #分辨率\n",
    "from scipy.optimize import curve_fit"
   ]
  },
  {
   "cell_type": "code",
   "execution_count": 2,
   "metadata": {},
   "outputs": [
    {
     "data": {
      "text/plain": [
       "(100, 300)"
      ]
     },
     "execution_count": 2,
     "metadata": {},
     "output_type": "execute_result"
    }
   ],
   "source": [
    "ERScatter = uproot.open(\"./build/testPandaX4T.root\")[\"ER_E_vs_S2\"]\n",
    "NRScatter = uproot.open(\"./build/testPandaX4T.root\")[\"NR_E_vs_S2\"]\n",
    "\n",
    "ER = ERScatter.values()\n",
    "NR = NRScatter.values()\n",
    "NR.shape"
   ]
  },
  {
   "cell_type": "code",
   "execution_count": null,
   "metadata": {},
   "outputs": [],
   "source": []
  }
 ],
 "metadata": {
  "kernelspec": {
   "display_name": "Python 3",
   "language": "python",
   "name": "python3"
  },
  "language_info": {
   "codemirror_mode": {
    "name": "ipython",
    "version": 3
   },
   "file_extension": ".py",
   "mimetype": "text/x-python",
   "name": "python",
   "nbconvert_exporter": "python",
   "pygments_lexer": "ipython3",
   "version": "3.7.6"
  }
 },
 "nbformat": 4,
 "nbformat_minor": 4
}
