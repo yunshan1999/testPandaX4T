{
 "cells": [
  {
   "cell_type": "code",
   "execution_count": 32,
   "metadata": {},
   "outputs": [],
   "source": [
    "import numpy as np\n",
    "import pandas as pd\n",
    "import uproot\n",
    "import matplotlib.pyplot as plt\n",
    "from scipy.interpolate import interp1d\n",
    "from numpy import loadtxt\n",
    "from random import random\n",
    "#from plot_dist_aux import *"
   ]
  },
  {
   "cell_type": "code",
   "execution_count": 33,
   "metadata": {},
   "outputs": [],
   "source": [
    "ana_tree_B8 = uproot.open(\"../../nest-lite/results/simuRootFil_B8.root\")['qmc_tree']\n",
    "ana_tree_ER = uproot.open(\"../../nest-lite/results/simuRootFil_ER.root\")['qmc_tree']\n",
    "ana_tree_NR = uproot.open(\"../../nest-lite/results/simuRootFil_NR.root\")['qmc_tree']\n",
    "\n",
    "S1_eff=loadtxt(\"../S1_eff.dat\",float)"
   ]
  },
  {
   "cell_type": "code",
   "execution_count": 58,
   "metadata": {},
   "outputs": [
    {
     "data": {
      "text/plain": [
       "<Array [0, 0, 0, 2.2, 0, ... 0, 0, 0, 0, 0] type='10000000 * float64'>"
      ]
     },
     "execution_count": 58,
     "metadata": {},
     "output_type": "execute_result"
    }
   ],
   "source": [
    "S1d_0 = ana_tree_B8['S1d'].array(library=\"np\")\n",
    "S1d_1 = ana_tree_ER['S1d'].array(library=\"np\")\n",
    "S1d_2 = ana_tree_NR['S1d'].array(library=\"np\")\n",
    "\n",
    "S2d_0 = ana_tree_B8['S2d'].array(library=\"np\")\n",
    "S2d_1 = ana_tree_ER['S2d'].array(library=\"np\")\n",
    "S2d_2 = ana_tree_NR['S2d'].array(library=\"np\")\n",
    "\n",
    "nHitsS1eff_0 = ana_tree_B8['nHitsS1eff'].array(library=\"np\")\n",
    "nHitsS1eff_1 = ana_tree_ER['nHitsS1eff'].array(library=\"np\")\n",
    "nHitsS1eff_2 = ana_tree_NR['nHitsS1eff'].array(library=\"np\")\n",
    "\n",
    "nHits = S1_eff[:,0]\n",
    "eff = S1_eff[:,1]\n",
    "f = interp1d(nHits,eff,fill_value=\"extrapolate\")\n",
    "\n",
    "S1d_0"
   ]
  },
  {
   "cell_type": "code",
   "execution_count": 60,
   "metadata": {},
   "outputs": [
    {
     "name": "stdout",
     "output_type": "stream",
     "text": [
      "52309\n"
     ]
    }
   ],
   "source": [
    "counts = 0\n",
    "for i in range(len(S1d_0)):\n",
    "    if random()>f(nHitsS1eff_0[i]):\n",
    "        S1d_0[i]=0.0\n",
    "        \n",
    "        \n",
    "for i in range(len(S1d_0)):\n",
    "    if S1d_0[i]>0 and S2d_0[i]>80:\n",
    "        counts += 1\n",
    "        \n",
    "print(counts)\n",
    "\n"
   ]
  },
  {
   "cell_type": "code",
   "execution_count": 65,
   "metadata": {},
   "outputs": [
    {
     "data": {
      "text/plain": [
       "array(1.0221374)"
      ]
     },
     "execution_count": 65,
     "metadata": {},
     "output_type": "execute_result"
    }
   ],
   "source": [
    "f(30)"
   ]
  },
  {
   "cell_type": "code",
   "execution_count": null,
   "metadata": {},
   "outputs": [],
   "source": []
  }
 ],
 "metadata": {
  "kernelspec": {
   "display_name": "Python 3",
   "language": "python",
   "name": "python3"
  },
  "language_info": {
   "codemirror_mode": {
    "name": "ipython",
    "version": 3
   },
   "file_extension": ".py",
   "mimetype": "text/x-python",
   "name": "python",
   "nbconvert_exporter": "python",
   "pygments_lexer": "ipython3",
   "version": "3.7.6"
  }
 },
 "nbformat": 4,
 "nbformat_minor": 4
}
