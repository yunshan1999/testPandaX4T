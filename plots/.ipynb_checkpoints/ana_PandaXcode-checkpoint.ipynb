{
 "cells": [
  {
   "cell_type": "code",
   "execution_count": null,
   "metadata": {},
   "outputs": [],
   "source": [
    "import numpy as np\n",
    "import pandas as pd\n",
    "import uproot"
   ]
  },
  {
   "cell_type": "code",
   "execution_count": null,
   "metadata": {},
   "outputs": [],
   "source": [
    "B8_ROOT_PATH = '../../nest-lite/results/simuRootFil_B8.root'\n",
    "ER_ROOT_PATH = '../../nest-lite/results/simuRootFil_B8.root'\n",
    "NR_ROOT_PATH = '../../nest-lite/results/simuRootFil_B8.root'\n",
    "ana_tree = uproot.open(ANA_ROOT_PATH)['qmc_tree']"
   ]
  }
 ],
 "metadata": {
  "kernelspec": {
   "display_name": "Python 3",
   "language": "python",
   "name": "python3"
  },
  "language_info": {
   "codemirror_mode": {
    "name": "ipython",
    "version": 3
   },
   "file_extension": ".py",
   "mimetype": "text/x-python",
   "name": "python",
   "nbconvert_exporter": "python",
   "pygments_lexer": "ipython3",
   "version": "3.7.6"
  }
 },
 "nbformat": 4,
 "nbformat_minor": 4
}
